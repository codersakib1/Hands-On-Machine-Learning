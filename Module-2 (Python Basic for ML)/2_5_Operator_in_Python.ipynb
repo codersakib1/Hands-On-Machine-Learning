{
  "nbformat": 4,
  "nbformat_minor": 0,
  "metadata": {
    "colab": {
      "provenance": []
    },
    "kernelspec": {
      "name": "python3",
      "display_name": "Python 3"
    },
    "language_info": {
      "name": "python"
    }
  },
  "cells": [
    {
      "cell_type": "markdown",
      "source": [
        "Operators in Python\n",
        "\n",
        "  1. Arithmetic Operators\n",
        "  2. Assignment Operators\n",
        "  3. Comparison Operators\n",
        "  4. Logical Operators\n",
        "  5. Identity Operators\n",
        "  6. Membership Operators\n",
        "\n",
        "    "
      ],
      "metadata": {
        "id": "SviuQbIrM7D3"
      }
    },
    {
      "cell_type": "markdown",
      "source": [
        "  1. Arithmetic Operators"
      ],
      "metadata": {
        "id": "I8OGB-ZJNW6a"
      }
    },
    {
      "cell_type": "code",
      "execution_count": null,
      "metadata": {
        "colab": {
          "base_uri": "https://localhost:8080/"
        },
        "id": "GNXbOy1jMwzg",
        "outputId": "e81e1c3e-f45a-4128-b3c4-0c2e53b166d1"
      },
      "outputs": [
        {
          "output_type": "stream",
          "name": "stdout",
          "text": [
            "Addition =  30\n",
            "Difference =  10\n",
            "Product =  200\n",
            "Quotient =  2.0\n",
            "Exponent =  10240000000000\n",
            "Modulus =  0\n"
          ]
        }
      ],
      "source": [
        "num_1 = 20\n",
        "num_2 = 10\n",
        "\n",
        "#Addition\n",
        "sum = num_1 + num_2\n",
        "print(\"Addition = \", sum)\n",
        "\n",
        "#Subtraction\n",
        "diff = num_1 - num_2\n",
        "print(\"Difference = \", diff)\n",
        "\n",
        "#Multiplication\n",
        "pro = num_1 * num_2\n",
        "print(\"Product = \", pro)\n",
        "\n",
        "#Division\n",
        "quo = num_1 / num_2\n",
        "print(\"Quotient = \", quo)\n",
        "\n",
        "#Exponent\n",
        "exp = num_1 ** num_2\n",
        "print(\"Exponent = \", exp)\n",
        "\n",
        "#Modulus\n",
        "mod = num_1 % num_2\n",
        "print(\"Modulus = \", mod)\n",
        "\n"
      ]
    },
    {
      "cell_type": "markdown",
      "source": [
        "  2. Assignment Operators"
      ],
      "metadata": {
        "id": "ENnbKrXLOyB8"
      }
    },
    {
      "cell_type": "markdown",
      "source": [
        "        +=\n",
        "        -=\n",
        "        *=\n",
        "        **=\n",
        "        /=\n",
        "        %="
      ],
      "metadata": {
        "id": "fCe0BdGxO-28"
      }
    },
    {
      "cell_type": "code",
      "source": [
        "  a = 5\n",
        "  a +=5 # a = a + 5\n",
        "  print(a)"
      ],
      "metadata": {
        "colab": {
          "base_uri": "https://localhost:8080/"
        },
        "id": "4zY9v-BDOuGo",
        "outputId": "2e538210-fdf1-476a-eb4f-a2af35ce77cc"
      },
      "execution_count": null,
      "outputs": [
        {
          "output_type": "stream",
          "name": "stdout",
          "text": [
            "10\n"
          ]
        }
      ]
    },
    {
      "cell_type": "code",
      "source": [
        "b = 5\n",
        "b -=2 # b = b -2\n",
        "print(b)"
      ],
      "metadata": {
        "colab": {
          "base_uri": "https://localhost:8080/"
        },
        "id": "KJlkb337PTSx",
        "outputId": "af28e3d9-406d-4cc3-ea59-0a3f5ce45bc4"
      },
      "execution_count": null,
      "outputs": [
        {
          "output_type": "stream",
          "name": "stdout",
          "text": [
            "3\n"
          ]
        }
      ]
    },
    {
      "cell_type": "code",
      "source": [
        "  a = 5\n",
        "  a *= 5   # a = a * 5\n",
        "  print(a)"
      ],
      "metadata": {
        "colab": {
          "base_uri": "https://localhost:8080/"
        },
        "id": "JsIabA7fPfCI",
        "outputId": "3e55a505-f13a-4fcf-8022-0d73683bd634"
      },
      "execution_count": null,
      "outputs": [
        {
          "output_type": "stream",
          "name": "stdout",
          "text": [
            "25\n"
          ]
        }
      ]
    },
    {
      "cell_type": "code",
      "source": [
        "  a = 5\n",
        "  a **=5   # a = a^5\n",
        "  print(a)"
      ],
      "metadata": {
        "colab": {
          "base_uri": "https://localhost:8080/"
        },
        "id": "rc6v7gMAPsBF",
        "outputId": "6cd59f46-dc3c-4105-a2d1-49a0704a5876"
      },
      "execution_count": null,
      "outputs": [
        {
          "output_type": "stream",
          "name": "stdout",
          "text": [
            "3125\n"
          ]
        }
      ]
    },
    {
      "cell_type": "code",
      "source": [
        "  a = 5\n",
        "  a /=5     # a = a/5\n",
        "  print(a)"
      ],
      "metadata": {
        "colab": {
          "base_uri": "https://localhost:8080/"
        },
        "id": "1u_7gUPxQAOU",
        "outputId": "f554317a-6038-4ee9-a741-71e4e0cf6647"
      },
      "execution_count": null,
      "outputs": [
        {
          "output_type": "stream",
          "name": "stdout",
          "text": [
            "1.0\n"
          ]
        }
      ]
    },
    {
      "cell_type": "code",
      "source": [
        "  a = 5\n",
        "  a %=5    # a = a%5\n",
        "  print(a)"
      ],
      "metadata": {
        "colab": {
          "base_uri": "https://localhost:8080/"
        },
        "id": "0_V0sf0gQbsU",
        "outputId": "64746d4c-c197-4de6-a189-8e9913264ca7"
      },
      "execution_count": null,
      "outputs": [
        {
          "output_type": "stream",
          "name": "stdout",
          "text": [
            "0\n"
          ]
        }
      ]
    },
    {
      "cell_type": "markdown",
      "source": [
        "  3. Comparison Operator\n",
        "  "
      ],
      "metadata": {
        "id": "VT4bomgnQlLV"
      }
    },
    {
      "cell_type": "code",
      "source": [
        "a = 5\n",
        "b = 10\n",
        "print(a == b)\n",
        "print(a != b)\n",
        "print(a > b)\n",
        "print(a < b)\n",
        "print (a <= b)\n",
        "print(a >= b)"
      ],
      "metadata": {
        "colab": {
          "base_uri": "https://localhost:8080/"
        },
        "id": "MCeA1-exQgRo",
        "outputId": "dc034051-5170-49c4-be7c-adcc68ba3199"
      },
      "execution_count": null,
      "outputs": [
        {
          "output_type": "stream",
          "name": "stdout",
          "text": [
            "False\n",
            "True\n",
            "False\n",
            "True\n",
            "True\n",
            "False\n"
          ]
        }
      ]
    },
    {
      "cell_type": "markdown",
      "source": [
        "4. Logical Operators\n",
        "\n",
        "    and\n",
        "\n",
        "    or\n",
        "\n",
        "    not"
      ],
      "metadata": {
        "id": "Res4H8spTXN-"
      }
    },
    {
      "cell_type": "code",
      "source": [
        "a = 10\n",
        "\n",
        "print (a>20 and a>5)\n",
        "print (a>20 or a>5)\n",
        "print (not a>8 and a>5)"
      ],
      "metadata": {
        "colab": {
          "base_uri": "https://localhost:8080/"
        },
        "id": "tsbcAOunRAeF",
        "outputId": "4784f77d-2352-4d43-db8f-cf72b417ce15"
      },
      "execution_count": null,
      "outputs": [
        {
          "output_type": "stream",
          "name": "stdout",
          "text": [
            "False\n",
            "True\n",
            "False\n"
          ]
        }
      ]
    },
    {
      "cell_type": "markdown",
      "source": [
        "  5. identity Operator:\n",
        "   \n",
        "   is\n",
        "   \n",
        "   is not"
      ],
      "metadata": {
        "id": "5LRYZ1eDTr-P"
      }
    },
    {
      "cell_type": "code",
      "source": [
        "x = 5\n",
        "y = 5\n",
        "print(x is y)"
      ],
      "metadata": {
        "id": "yDkwzx5pSIzk",
        "colab": {
          "base_uri": "https://localhost:8080/"
        },
        "outputId": "fbf9161c-9e9d-4918-a292-3533c261db9f"
      },
      "execution_count": 11,
      "outputs": [
        {
          "output_type": "stream",
          "name": "stdout",
          "text": [
            "True\n"
          ]
        }
      ]
    },
    {
      "cell_type": "code",
      "source": [
        "x = 5\n",
        "y = 10\n",
        "print(x is y)"
      ],
      "metadata": {
        "colab": {
          "base_uri": "https://localhost:8080/"
        },
        "id": "esek0ZllUCnL",
        "outputId": "4b58143e-96bb-498c-ea9e-a2d759efa799"
      },
      "execution_count": 12,
      "outputs": [
        {
          "output_type": "stream",
          "name": "stdout",
          "text": [
            "False\n"
          ]
        }
      ]
    },
    {
      "cell_type": "code",
      "source": [
        "x = 5\n",
        "y = 5\n",
        "print(x is not y)"
      ],
      "metadata": {
        "colab": {
          "base_uri": "https://localhost:8080/"
        },
        "id": "w7JnCdctUIvq",
        "outputId": "7cc7a940-8bf8-459d-a003-6b6ab2ccf4e6"
      },
      "execution_count": 14,
      "outputs": [
        {
          "output_type": "stream",
          "name": "stdout",
          "text": [
            "False\n"
          ]
        }
      ]
    },
    {
      "cell_type": "code",
      "source": [
        "x = 5\n",
        "y = 10\n",
        "print(x is not y)"
      ],
      "metadata": {
        "colab": {
          "base_uri": "https://localhost:8080/"
        },
        "id": "oPKm1tR8UWsF",
        "outputId": "1ada4ad5-1bb2-4b29-fb28-d0d39baeccc4"
      },
      "execution_count": 15,
      "outputs": [
        {
          "output_type": "stream",
          "name": "stdout",
          "text": [
            "True\n"
          ]
        }
      ]
    },
    {
      "cell_type": "markdown",
      "source": [
        " 6. Membership Operator\n",
        "      \n",
        "      in\n",
        "\n",
        "      not in"
      ],
      "metadata": {
        "id": "ZTEAVT_VUjQ_"
      }
    },
    {
      "cell_type": "code",
      "source": [
        "a = 5\n",
        "b = 10\n",
        "c = [1,2,3,4,5]\n",
        "print(a in c)\n",
        "print(b in c)"
      ],
      "metadata": {
        "colab": {
          "base_uri": "https://localhost:8080/"
        },
        "id": "N5q141u2UdDi",
        "outputId": "57c760dc-a03a-404c-ff44-a6e0a40a88ac"
      },
      "execution_count": 16,
      "outputs": [
        {
          "output_type": "stream",
          "name": "stdout",
          "text": [
            "True\n",
            "False\n"
          ]
        }
      ]
    },
    {
      "cell_type": "code",
      "source": [],
      "metadata": {
        "id": "vZQVPSQwU2d0"
      },
      "execution_count": null,
      "outputs": []
    }
  ]
}